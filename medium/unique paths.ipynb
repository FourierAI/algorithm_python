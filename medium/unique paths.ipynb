{
 "cells": [
  {
   "cell_type": "code",
   "execution_count": 1,
   "metadata": {},
   "outputs": [],
   "source": [
    "class Solution:\n",
    "    def uniquePaths(self, m: int, n: int) -> int:\n",
    "\n",
    "        def uniquePaths_help(i,j):\n",
    "            if i <= 0 or j <= 0:\n",
    "                return 1\n",
    "\n",
    "            return uniquePaths_help(i-1,j)+uniquePaths_help(i,j-1)\n",
    "\n",
    "        return uniquePaths_help(m-1,n-1)"
   ]
  },
  {
   "cell_type": "code",
   "execution_count": 2,
   "metadata": {},
   "outputs": [],
   "source": [
    "class Solution:\n",
    "    def uniquePaths(self, m: int, n: int) -> int:\n",
    "\n",
    "        dp_table = [[1]*m]*n\n",
    "\n",
    "        for i in range(1,n):\n",
    "            for j in range(1,m):\n",
    "                dp_table[i][j] = dp_table[i-1][j]+dp_table[i][j-1]\n",
    "\n",
    "        return dp_table[n-1][m-1]"
   ]
  },
  {
   "cell_type": "code",
   "execution_count": null,
   "metadata": {},
   "outputs": [],
   "source": []
  }
 ],
 "metadata": {
  "kernelspec": {
   "display_name": "Python 3",
   "language": "python",
   "name": "python3"
  },
  "language_info": {
   "codemirror_mode": {
    "name": "ipython",
    "version": 3
   },
   "file_extension": ".py",
   "mimetype": "text/x-python",
   "name": "python",
   "nbconvert_exporter": "python",
   "pygments_lexer": "ipython3",
   "version": "3.7.1"
  }
 },
 "nbformat": 4,
 "nbformat_minor": 2
}
