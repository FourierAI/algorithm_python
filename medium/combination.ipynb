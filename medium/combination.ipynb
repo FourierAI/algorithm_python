{
 "cells": [
  {
   "cell_type": "code",
   "execution_count": null,
   "metadata": {},
   "outputs": [],
   "source": [
    "class Solution:\n",
    "    def combine(self, n: int, k: int) -> List[List[int]]:\n",
    "        whole_list = [i for i in range(1,n+1)]\n",
    "\n",
    "        result = []\n",
    "        def help_combine(nums,combination):\n",
    "            if k==len(combination):\n",
    "                result.append(combination)\n",
    "                return\n",
    "\n",
    "            for i in range(len(nums)):\n",
    "                help_combine(nums[i+1:],combination+[nums[i]])\n",
    "\n",
    "        help_combine(whole_list,[])\n",
    "        return result"
   ]
  }
 ],
 "metadata": {
  "kernelspec": {
   "display_name": "Python 3",
   "language": "python",
   "name": "python3"
  },
  "language_info": {
   "codemirror_mode": {
    "name": "ipython",
    "version": 3
   },
   "file_extension": ".py",
   "mimetype": "text/x-python",
   "name": "python",
   "nbconvert_exporter": "python",
   "pygments_lexer": "ipython3",
   "version": "3.7.1"
  }
 },
 "nbformat": 4,
 "nbformat_minor": 2
}
