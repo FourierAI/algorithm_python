{
 "cells": [
  {
   "cell_type": "code",
   "execution_count": null,
   "metadata": {},
   "outputs": [],
   "source": [
    "class Solution:\n",
    "    def isValidSudoku(self, board: List[List[str]]) -> bool:\n",
    "\n",
    "        for i in range(9):\n",
    "            row_set = set()\n",
    "            column_set = set()\n",
    "            for j in range(9):\n",
    "                if board[i][j] in row_set or board[j][i] in column_set:\n",
    "                    return False\n",
    "\n",
    "                if board[i][j] != '.':\n",
    "                    row_set.add(board[i][j])\n",
    "\n",
    "                if board[j][i] != '.':\n",
    "                    column_set.add(board[j][i])\n",
    "\n",
    "        for i in range(3,12,3):\n",
    "            for j in range(3,12,3):\n",
    "                block_set = set()\n",
    "                for m in range(i-3,i):\n",
    "                    for n in range(j-3,j):\n",
    "                        if board[m][n] in block_set:\n",
    "                            return False\n",
    "\n",
    "                        if board[m][n] != '.':\n",
    "                            block_set.add(board[m][n])\n",
    "\n",
    "\n",
    "        return True"
   ]
  }
 ],
 "metadata": {
  "kernelspec": {
   "display_name": "Python 3",
   "language": "python",
   "name": "python3"
  },
  "language_info": {
   "codemirror_mode": {
    "name": "ipython",
    "version": 3
   },
   "file_extension": ".py",
   "mimetype": "text/x-python",
   "name": "python",
   "nbconvert_exporter": "python",
   "pygments_lexer": "ipython3",
   "version": "3.7.1"
  }
 },
 "nbformat": 4,
 "nbformat_minor": 2
}
