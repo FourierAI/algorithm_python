{
 "cells": [
  {
   "cell_type": "code",
   "execution_count": 2,
   "metadata": {},
   "outputs": [],
   "source": [
    "class Solution:\n",
    "    def longestPalindrome(self, s: str) -> str:\n",
    "        s_length = len(s)\n",
    "        dp_table = [[False for value in s] for value in s]\n",
    "        for i in range(s_length):\n",
    "            dp_table[i][i] = True\n",
    "\n",
    "        max_length = 1\n",
    "        start_point = 0\n",
    "        for j in range(1,s_length):\n",
    "            for i in range(0,j):\n",
    "                dp_table[i][j] = (s[i] == s[j]) and (j-i<3 or dp_table[i+1][j-1] )\n",
    "\n",
    "                if dp_table[i][j]:\n",
    "                    current_length = j-i+1\n",
    "                    if current_length > max_length:\n",
    "                        max_length = current_length\n",
    "                        start_point = i\n",
    "\n",
    "        return s[start_point:start_point+max_length]"
   ]
  },
  {
   "cell_type": "code",
   "execution_count": 3,
   "metadata": {},
   "outputs": [],
   "source": [
    "class Solution:\n",
    "    def longestPalindrome(self, s: str) -> str:\n",
    "        s_length = len(s)\n",
    "\n",
    "        longest_palindromic = ''\n",
    "        for i in range(s_length):\n",
    "            for j in range(i+1,s_length+1):\n",
    "                substring = s[i:j] \n",
    "                if self.isPalindromic(substring):\n",
    "                    if len(substring)>=len(longest_palindromic):\n",
    "                        longest_palindromic = substring\n",
    "        return longest_palindromic\n",
    "\n",
    "\n",
    "    def isPalindromic(self,s):\n",
    "        return s == s[::-1]"
   ]
  },
  {
   "cell_type": "code",
   "execution_count": null,
   "metadata": {},
   "outputs": [],
   "source": []
  }
 ],
 "metadata": {
  "kernelspec": {
   "display_name": "Python 3",
   "language": "python",
   "name": "python3"
  },
  "language_info": {
   "codemirror_mode": {
    "name": "ipython",
    "version": 3
   },
   "file_extension": ".py",
   "mimetype": "text/x-python",
   "name": "python",
   "nbconvert_exporter": "python",
   "pygments_lexer": "ipython3",
   "version": "3.7.1"
  }
 },
 "nbformat": 4,
 "nbformat_minor": 2
}
