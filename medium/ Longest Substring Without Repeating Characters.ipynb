{
 "cells": [
  {
   "cell_type": "code",
   "execution_count": 1,
   "metadata": {},
   "outputs": [],
   "source": [
    "class Solution:\n",
    "    def lengthOfLongestSubstring(self, s: str) -> int:\n",
    "        global_longest = 0\n",
    "        local_longest = 0\n",
    "        string_set = set()\n",
    "        for i in range(len(s)):\n",
    "            string_set.add(s[i])\n",
    "            local_longest = 1\n",
    "            for j in range(i+1,len(s)):\n",
    "                if s[j] in string_set:\n",
    "                    if local_longest > global_longest:\n",
    "                        global_longest = local_longest\n",
    "                    string_set = set()\n",
    "                    break\n",
    "                else:\n",
    "                    string_set.add(s[j])\n",
    "                    local_longest += 1\n",
    "\n",
    "            if local_longest>global_longest:\n",
    "                global_longest = local_longest\n",
    "        return global_longest"
   ]
  }
 ],
 "metadata": {
  "kernelspec": {
   "display_name": "Python 3",
   "language": "python",
   "name": "python3"
  },
  "language_info": {
   "codemirror_mode": {
    "name": "ipython",
    "version": 3
   },
   "file_extension": ".py",
   "mimetype": "text/x-python",
   "name": "python",
   "nbconvert_exporter": "python",
   "pygments_lexer": "ipython3",
   "version": "3.7.1"
  }
 },
 "nbformat": 4,
 "nbformat_minor": 2
}
