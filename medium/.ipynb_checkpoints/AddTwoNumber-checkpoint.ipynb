{
 "cells": [
  {
   "cell_type": "code",
   "execution_count": 2,
   "metadata": {},
   "outputs": [],
   "source": [
    "# Definition for singly-linked list.\n",
    "# class ListNode:\n",
    "#     def __init__(self, x):\n",
    "#         self.val = x\n",
    "#         self.next = None\n",
    "\n",
    "class Solution:\n",
    "    def addTwoNumbers(self, l1, l2):\n",
    "        # start node\n",
    "        result = ListNode(0)\n",
    "        l1_cp = l1\n",
    "        l2_cp = l2\n",
    "        carrybit = 0\n",
    "        result_cp = result\n",
    "        while l1_cp != None or l2_cp != None:\n",
    "            x = 0 if (l1_cp == None) else l1_cp.val\n",
    "            y = 0 if (l2_cp == None) else l2_cp.val\n",
    "\n",
    "            sum_tmp = (x + y) + carrybit\n",
    "            if sum_tmp >=10 :\n",
    "                sum_tmp = sum_tmp %10\n",
    "                carrybit = 1\n",
    "            else:\n",
    "                carrybit = 0\n",
    "            node = ListNode(sum_tmp)\n",
    "            result_cp.next = node\n",
    "            result_cp = result_cp.next  \n",
    "            l1_cp = l1_cp if l1_cp == None else l1_cp.next\n",
    "            l2_cp = l2_cp if l2_cp == None else l2_cp.next\n",
    "        if carrybit ==1:\n",
    "            result_cp.next = ListNode(carrybit)\n",
    "        return result.next"
   ]
  },
  {
   "cell_type": "code",
   "execution_count": null,
   "metadata": {},
   "outputs": [],
   "source": []
  }
 ],
 "metadata": {
  "kernelspec": {
   "display_name": "Python 3",
   "language": "python",
   "name": "python3"
  },
  "language_info": {
   "codemirror_mode": {
    "name": "ipython",
    "version": 3
   },
   "file_extension": ".py",
   "mimetype": "text/x-python",
   "name": "python",
   "nbconvert_exporter": "python",
   "pygments_lexer": "ipython3",
   "version": "3.7.1"
  }
 },
 "nbformat": 4,
 "nbformat_minor": 2
}
