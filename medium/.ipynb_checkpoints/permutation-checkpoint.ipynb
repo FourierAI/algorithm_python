{
 "cells": [
  {
   "cell_type": "code",
   "execution_count": null,
   "metadata": {},
   "outputs": [],
   "source": [
    "class Solution:\n",
    "    def permute(self, nums: List[int]) -> List[List[int]]:\n",
    "        result = []\n",
    "\n",
    "        def help_permute(nums, tmp):\n",
    "            if not nums:\n",
    "                result.append(tmp)\n",
    "                return \n",
    "\n",
    "            for i in range(len(nums)):\n",
    "                help_permute(nums[:i]+nums[i+1:],tmp+[nums[i]])\n",
    "\n",
    "        help_permute(nums,[])\n",
    "\n",
    "        return result"
   ]
  }
 ],
 "metadata": {
  "kernelspec": {
   "display_name": "Python 3",
   "language": "python",
   "name": "python3"
  },
  "language_info": {
   "codemirror_mode": {
    "name": "ipython",
    "version": 3
   },
   "file_extension": ".py",
   "mimetype": "text/x-python",
   "name": "python",
   "nbconvert_exporter": "python",
   "pygments_lexer": "ipython3",
   "version": "3.7.1"
  }
 },
 "nbformat": 4,
 "nbformat_minor": 2
}
