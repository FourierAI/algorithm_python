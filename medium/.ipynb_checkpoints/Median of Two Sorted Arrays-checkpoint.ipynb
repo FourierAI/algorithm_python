{
 "cells": [
  {
   "cell_type": "code",
   "execution_count": 19,
   "metadata": {},
   "outputs": [],
   "source": [
    "def merge_two_sorted_list(l1,l2):\n",
    "    result_list = []\n",
    "    length1 = len(l1)\n",
    "    length2 = len(l2)\n",
    "    if length1 == 0:\n",
    "        result_list = l2\n",
    "        return result_list\n",
    "    if length2 == 0:\n",
    "        result_list =l1\n",
    "        return result_list\n",
    "    j=0\n",
    "    k=0\n",
    "    for i in range(length1+length2):\n",
    "        if i>length1:\n",
    "            while j<length2:\n",
    "                result_list.append(l2[j])\n",
    "                j += 1\n",
    "            return result_list\n",
    "        if i>length2:\n",
    "            while k<length1:\n",
    "                result_list.append(l1[k])\n",
    "                k1 +=1\n",
    "            return result_list\n",
    "        if l1[k]<l2[j]:\n",
    "            result_list.append(l1[k])\n",
    "            k +=1\n",
    "        else:\n",
    "            result_list.append(l2[j])\n",
    "            j +=1\n",
    "    return result_list"
   ]
  },
  {
   "cell_type": "code",
   "execution_count": 20,
   "metadata": {},
   "outputs": [],
   "source": [
    "l1,l2=[1,2,3],[2,4,5,25]"
   ]
  },
  {
   "cell_type": "code",
   "execution_count": 21,
   "metadata": {},
   "outputs": [
    {
     "data": {
      "text/plain": [
       "[1, 2, 2, 3, 4, 5, 25]"
      ]
     },
     "execution_count": 21,
     "metadata": {},
     "output_type": "execute_result"
    }
   ],
   "source": [
    "merge_two_sorted_list(l1,l2)"
   ]
  },
  {
   "cell_type": "code",
   "execution_count": null,
   "metadata": {},
   "outputs": [],
   "source": []
  }
 ],
 "metadata": {
  "kernelspec": {
   "display_name": "Python 3",
   "language": "python",
   "name": "python3"
  },
  "language_info": {
   "codemirror_mode": {
    "name": "ipython",
    "version": 3
   },
   "file_extension": ".py",
   "mimetype": "text/x-python",
   "name": "python",
   "nbconvert_exporter": "python",
   "pygments_lexer": "ipython3",
   "version": "3.7.1"
  }
 },
 "nbformat": 4,
 "nbformat_minor": 2
}
