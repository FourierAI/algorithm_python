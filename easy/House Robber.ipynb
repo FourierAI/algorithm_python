{
 "cells": [
  {
   "cell_type": "code",
   "execution_count": null,
   "metadata": {},
   "outputs": [],
   "source": [
    "class Solution:\n",
    "    def rob(self, nums: List[int]) -> int:\n",
    "        if len(nums) == 0:\n",
    "            return 0\n",
    "\n",
    "        if len(nums) ==1:\n",
    "            return nums[0]\n",
    "        if len(nums) ==2:\n",
    "            return max(nums[0],nums[1])\n",
    "\n",
    "        dp = [0]* len(nums)\n",
    "        dp[0] = nums[0]\n",
    "        dp[1] = max(nums[0],nums[1])\n",
    "\n",
    "        for i in range(2,len(nums)):\n",
    "            dp[i] = max(dp[i-2]+nums[i],dp[i-1])\n",
    "\n",
    "        return dp[len(nums)-1]"
   ]
  }
 ],
 "metadata": {
  "kernelspec": {
   "display_name": "Python 3",
   "language": "python",
   "name": "python3"
  },
  "language_info": {
   "codemirror_mode": {
    "name": "ipython",
    "version": 3
   },
   "file_extension": ".py",
   "mimetype": "text/x-python",
   "name": "python",
   "nbconvert_exporter": "python",
   "pygments_lexer": "ipython3",
   "version": "3.7.1"
  }
 },
 "nbformat": 4,
 "nbformat_minor": 2
}
