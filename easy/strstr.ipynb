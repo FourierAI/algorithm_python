{
 "cells": [
  {
   "cell_type": "code",
   "execution_count": 1,
   "metadata": {},
   "outputs": [],
   "source": [
    "class Solution:\n",
    "    def strStr(self, haystack, needle):\n",
    "\n",
    "        haystack_length = len(haystack)\n",
    "        needle_length = len(needle)\n",
    "\n",
    "        if needle_length == 0:\n",
    "            return 0\n",
    "\n",
    "        if needle_length > haystack_length:\n",
    "            return -1\n",
    "\n",
    "        index= -1\n",
    "        for i in range(haystack_length):\n",
    "            j=0\n",
    "            current_i = i\n",
    "            while current_i < haystack_length and haystack[current_i] == needle[j]:\n",
    "                current_i +=1\n",
    "                j +=1\n",
    "                if j>=needle_length:\n",
    "                    return current_i - needle_length\n",
    "\n",
    "        return index"
   ]
  },
  {
   "cell_type": "code",
   "execution_count": 2,
   "metadata": {},
   "outputs": [],
   "source": [
    "class Solution:\n",
    "    def strStr(self, haystack, needle):\n",
    "\n",
    "        needle_length = len(needle)\n",
    "\n",
    "        if needle_length == 0:\n",
    "            return 0\n",
    "        haystack_length = len(haystack)\n",
    "\n",
    "        for i in range(haystack_length-needle_length+1):\n",
    "            match_str = haystack[i:i+needle_length]\n",
    "            if match_str == needle:\n",
    "                return i\n",
    "\n",
    "        return -1"
   ]
  },
  {
   "cell_type": "code",
   "execution_count": null,
   "metadata": {},
   "outputs": [],
   "source": []
  }
 ],
 "metadata": {
  "kernelspec": {
   "display_name": "Python 3",
   "language": "python",
   "name": "python3"
  },
  "language_info": {
   "codemirror_mode": {
    "name": "ipython",
    "version": 3
   },
   "file_extension": ".py",
   "mimetype": "text/x-python",
   "name": "python",
   "nbconvert_exporter": "python",
   "pygments_lexer": "ipython3",
   "version": "3.7.1"
  }
 },
 "nbformat": 4,
 "nbformat_minor": 2
}
