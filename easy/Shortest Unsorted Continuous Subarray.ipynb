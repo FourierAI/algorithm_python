{
 "cells": [
  {
   "cell_type": "code",
   "execution_count": 2,
   "metadata": {},
   "outputs": [],
   "source": [
    "def findUnsortedSubarray(nums) -> int:\n",
    "\n",
    "        nums_length = len(nums)\n",
    "\n",
    "        left_length = 0\n",
    "        right_length = 0\n",
    "        judge_left = True\n",
    "        judge_right = True\n",
    "        for i in range(nums_length):\n",
    "            m = nums_length-i-1\n",
    "            for j in range(i+1,nums_length):\n",
    "                n = nums_length -j-1\n",
    "                if judge_left and nums[i] > nums[j]:\n",
    "                    judge_left = False\n",
    "                if judge_right and nums[m] < nums[n]:\n",
    "                    judge_right = False\n",
    "            if judge_left:\n",
    "                left_length += 1\n",
    "            if judge_right:\n",
    "                right_length += 1\n",
    "            if (left_length == nums_length) or (right_length == nums_length):\n",
    "                return 0\n",
    "\n",
    "        return nums_length -(left_length+right_length)"
   ]
  },
  {
   "cell_type": "code",
   "execution_count": 4,
   "metadata": {},
   "outputs": [],
   "source": [
    "def findUnsortedSubarray(nums) -> int:\n",
    "    num_sorted = sorted(nums)\n",
    "    left_length = 0\n",
    "    right_length = 0\n",
    "\n",
    "    nums_length = len(nums)\n",
    "    trigger_left = True\n",
    "    trigger_right = True\n",
    "    for i in range(nums_length):\n",
    "\n",
    "        if trigger_left and nums[i] == num_sorted[i]:\n",
    "            left_length +=1\n",
    "        else:\n",
    "            trigger_left = False\n",
    "\n",
    "        if trigger_right and nums[nums_length-i-1] == num_sorted[nums_length-i-1]:\n",
    "            right_length +=1\n",
    "        else:\n",
    "            trigger_right = False\n",
    "\n",
    "\n",
    "        if left_length == nums_length or right_length == nums_length:\n",
    "            return 0\n",
    "\n",
    "    return nums_length - (right_length +left_length)"
   ]
  },
  {
   "cell_type": "code",
   "execution_count": null,
   "metadata": {},
   "outputs": [],
   "source": []
  }
 ],
 "metadata": {
  "kernelspec": {
   "display_name": "Python 3",
   "language": "python",
   "name": "python3"
  },
  "language_info": {
   "codemirror_mode": {
    "name": "ipython",
    "version": 3
   },
   "file_extension": ".py",
   "mimetype": "text/x-python",
   "name": "python",
   "nbconvert_exporter": "python",
   "pygments_lexer": "ipython3",
   "version": "3.7.1"
  }
 },
 "nbformat": 4,
 "nbformat_minor": 2
}
