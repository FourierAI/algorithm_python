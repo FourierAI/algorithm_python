{
 "cells": [
  {
   "cell_type": "code",
   "execution_count": 2,
   "metadata": {},
   "outputs": [],
   "source": [
    "from math import sqrt\n",
    "class Solution:\n",
    "    def countPrimes(self, n: int) -> int:\n",
    "        num_table = [True] * n\n",
    "\n",
    "        i =2\n",
    "        while i*i<n:\n",
    "            if num_table[i]:\n",
    "                for j in range(i*i,n,i):\n",
    "                    num_table[j] = False\n",
    "            i+=1\n",
    "\n",
    "        count = 0\n",
    "        for i in range(2,n):\n",
    "            if num_table[i]:\n",
    "                count += 1\n",
    "\n",
    "        return count"
   ]
  },
  {
   "cell_type": "code",
   "execution_count": null,
   "metadata": {},
   "outputs": [],
   "source": []
  }
 ],
 "metadata": {
  "kernelspec": {
   "display_name": "Python 3",
   "language": "python",
   "name": "python3"
  },
  "language_info": {
   "codemirror_mode": {
    "name": "ipython",
    "version": 3
   },
   "file_extension": ".py",
   "mimetype": "text/x-python",
   "name": "python",
   "nbconvert_exporter": "python",
   "pygments_lexer": "ipython3",
   "version": "3.7.1"
  }
 },
 "nbformat": 4,
 "nbformat_minor": 2
}
