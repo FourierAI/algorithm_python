{
 "cells": [
  {
   "cell_type": "code",
   "execution_count": null,
   "metadata": {},
   "outputs": [],
   "source": [
    "# Definition for a binary tree node.\n",
    "# class TreeNode:\n",
    "#     def __init__(self, x):\n",
    "#         self.val = x\n",
    "#         self.left = None\n",
    "#         self.right = None\n",
    "\n",
    "class Solution:\n",
    "    def sortedArrayToBST(self, nums: List[int]) -> TreeNode:\n",
    "\n",
    "        if nums == None:\n",
    "            return None\n",
    "\n",
    "        nums_length = len(nums)\n",
    "        if nums_length == 0:\n",
    "            return None \n",
    "\n",
    "        median_index = nums_length // 2\n",
    "\n",
    "        node = TreeNode(nums[median_index])\n",
    "\n",
    "        node.left = self.sortedArrayToBST(nums[:median_index])\n",
    "        node.right = self.sortedArrayToBST(nums[median_index+1:])\n",
    "\n",
    "        return node"
   ]
  }
 ],
 "metadata": {
  "kernelspec": {
   "display_name": "Python 3",
   "language": "python",
   "name": "python3"
  },
  "language_info": {
   "codemirror_mode": {
    "name": "ipython",
    "version": 3
   },
   "file_extension": ".py",
   "mimetype": "text/x-python",
   "name": "python",
   "nbconvert_exporter": "python",
   "pygments_lexer": "ipython3",
   "version": "3.7.1"
  }
 },
 "nbformat": 4,
 "nbformat_minor": 2
}
