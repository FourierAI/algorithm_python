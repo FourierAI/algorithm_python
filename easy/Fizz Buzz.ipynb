{
 "cells": [
  {
   "cell_type": "code",
   "execution_count": null,
   "metadata": {},
   "outputs": [],
   "source": [
    "class Solution:\n",
    "    def fizzBuzz(self, n: int) -> List[str]:\n",
    "        str_list = []\n",
    "\n",
    "        for num in range(1,n+1):\n",
    "            if num%3==0 and num %5!=0:\n",
    "                str_list.append('Fizz')\n",
    "            elif num%5==0 and num%3 != 0:\n",
    "                str_list.append('Buzz')\n",
    "            elif num %3 ==0 and num%5==0:\n",
    "                str_list.append('FizzBuzz')\n",
    "            else:\n",
    "                str_list.append(str(num))\n",
    "        return str_list\n"
   ]
  }
 ],
 "metadata": {
  "kernelspec": {
   "display_name": "Python 3",
   "language": "python",
   "name": "python3"
  },
  "language_info": {
   "codemirror_mode": {
    "name": "ipython",
    "version": 3
   },
   "file_extension": ".py",
   "mimetype": "text/x-python",
   "name": "python",
   "nbconvert_exporter": "python",
   "pygments_lexer": "ipython3",
   "version": "3.7.1"
  }
 },
 "nbformat": 4,
 "nbformat_minor": 2
}
