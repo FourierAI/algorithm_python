{
 "cells": [
  {
   "cell_type": "code",
   "execution_count": null,
   "metadata": {},
   "outputs": [],
   "source": [
    "class Solution:\n",
    "    def isValid(self, s: str) -> bool:\n",
    "\n",
    "        parentheses_map = {'(':')','[':']','{':'}',')':'(',']':']','}':'{'}\n",
    "\n",
    "        vector = []\n",
    "\n",
    "        for char in s:\n",
    "            if len(vector) == 0 or parentheses_map.get(vector[-1]) != char:\n",
    "                vector.append(char)\n",
    "                continue\n",
    "\n",
    "            if len(vector) > 0 and parentheses_map.get(vector[-1]) == char:\n",
    "                vector.pop()\n",
    "\n",
    "        return len(vector) == 0"
   ]
  }
 ],
 "metadata": {
  "kernelspec": {
   "display_name": "Python 3",
   "language": "python",
   "name": "python3"
  },
  "language_info": {
   "codemirror_mode": {
    "name": "ipython",
    "version": 3
   },
   "file_extension": ".py",
   "mimetype": "text/x-python",
   "name": "python",
   "nbconvert_exporter": "python",
   "pygments_lexer": "ipython3",
   "version": "3.7.1"
  }
 },
 "nbformat": 4,
 "nbformat_minor": 2
}
