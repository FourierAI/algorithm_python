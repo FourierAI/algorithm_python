{
 "cells": [
  {
   "cell_type": "code",
   "execution_count": 1,
   "metadata": {},
   "outputs": [],
   "source": [
    "class Solution:\n",
    "    def firstUniqChar(self, s: str) -> int:\n",
    "        if len(s) == 1:\n",
    "            return 0\n",
    "\n",
    "        str_set = set()\n",
    "\n",
    "        for i in range(len(s)):\n",
    "            if s[i] not in s[i+1:] and s[i] not in s[:i]:\n",
    "                return i\n",
    "        \n",
    "        return -1\n"
   ]
  },
  {
   "cell_type": "code",
   "execution_count": null,
   "metadata": {},
   "outputs": [],
   "source": [
    "class Solution:\n",
    "    def firstUniqChar(self, s: str) -> int:\n",
    "        str_map = {}\n",
    "\n",
    "        for index,value in enumerate(s):\n",
    "            if value in str_map:\n",
    "                str_map[value] +=1\n",
    "            else:\n",
    "                str_map[value] = 1\n",
    "\n",
    "        for index,value in enumerate(s):\n",
    "            if str_map.get(value) == 1:\n",
    "                return index\n",
    "\n",
    "        return -1"
   ]
  }
 ],
 "metadata": {
  "kernelspec": {
   "display_name": "Python 3",
   "language": "python",
   "name": "python3"
  },
  "language_info": {
   "codemirror_mode": {
    "name": "ipython",
    "version": 3
   },
   "file_extension": ".py",
   "mimetype": "text/x-python",
   "name": "python",
   "nbconvert_exporter": "python",
   "pygments_lexer": "ipython3",
   "version": "3.7.1"
  }
 },
 "nbformat": 4,
 "nbformat_minor": 2
}
