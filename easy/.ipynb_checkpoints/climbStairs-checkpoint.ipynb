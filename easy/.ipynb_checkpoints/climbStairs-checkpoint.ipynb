{
 "cells": [
  {
   "cell_type": "code",
   "execution_count": 1,
   "metadata": {},
   "outputs": [],
   "source": [
    "class Solution:\n",
    "    def climbStairs(self, n: int) -> int:\n",
    " \n",
    "        def memorize_help(n, dic):\n",
    "            if n in dic:\n",
    "                return dic.get(n)\n",
    "            else:\n",
    "                if n == 1:\n",
    "                    dic[n] = 1\n",
    "                    return 1\n",
    "                elif n ==2:\n",
    "                    dic[n] = 2\n",
    "                    return 2\n",
    "                else:\n",
    "                    value = memorize_help(n-1,dic)+memorize_help(n-2,dic)\n",
    "                    dic[n] = value\n",
    "                    return value\n",
    "\n",
    "        dic={}\n",
    "        return memorize_help(n,dic)\n"
   ]
  },
  {
   "cell_type": "code",
   "execution_count": 2,
   "metadata": {},
   "outputs": [],
   "source": [
    "class Solution:\n",
    "    def climbStairs(self, n: int) -> int:\n",
    "        \n",
    "        if n == 1 or n==2:\n",
    "            return n\n",
    "\n",
    "        dp_table = [0]*n\n",
    "        dp_table[0] = 1\n",
    "        dp_table[1] = 2\n",
    "\n",
    "        for i in range(2,n):\n",
    "            dp_table[i] = dp_table[i-2]+dp_table[i-1]\n",
    "\n",
    "        return dp_table[n-1]\n"
   ]
  },
  {
   "cell_type": "code",
   "execution_count": 3,
   "metadata": {},
   "outputs": [],
   "source": [
    "class Solution:\n",
    "    def climbStairs(self, n: int) -> int:\n",
    "        \n",
    "        if n == 1 or n==2:\n",
    "            return n\n",
    "\n",
    "        first_value = 1\n",
    "        second_value = 2\n",
    "\n",
    "        for i in range(2,n):\n",
    "            tmp = second_value\n",
    "            second_value = first_value + second_value\n",
    "            first_value = tmp\n",
    "\n",
    "        return second_value\n"
   ]
  },
  {
   "cell_type": "code",
   "execution_count": null,
   "metadata": {},
   "outputs": [],
   "source": []
  }
 ],
 "metadata": {
  "kernelspec": {
   "display_name": "Python 3",
   "language": "python",
   "name": "python3"
  },
  "language_info": {
   "codemirror_mode": {
    "name": "ipython",
    "version": 3
   },
   "file_extension": ".py",
   "mimetype": "text/x-python",
   "name": "python",
   "nbconvert_exporter": "python",
   "pygments_lexer": "ipython3",
   "version": "3.7.1"
  }
 },
 "nbformat": 4,
 "nbformat_minor": 2
}
