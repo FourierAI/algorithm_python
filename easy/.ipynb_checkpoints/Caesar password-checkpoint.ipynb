{
 "cells": [
  {
   "cell_type": "code",
   "execution_count": 2,
   "metadata": {},
   "outputs": [
    {
     "name": "stdout",
     "output_type": "stream",
     "text": [
      "DEFGHIJKLMNOPABC\n"
     ]
    }
   ],
   "source": [
    "str_test = 'ABCDEFGHIJKLMNOP'\n",
    "key = 3\n",
    "\n",
    "str_test_len = len(str_test)\n",
    "casar_password = []\n",
    "for i in range(key,str_test_len):\n",
    "    casar_password.append(str_test[i])\n",
    "    \n",
    "for i in range(key):\n",
    "    casar_password.append(str_test[i])\n",
    "\n",
    "print(''.join(casar_password))"
   ]
  },
  {
   "cell_type": "code",
   "execution_count": null,
   "metadata": {},
   "outputs": [],
   "source": []
  }
 ],
 "metadata": {
  "kernelspec": {
   "display_name": "Python 3",
   "language": "python",
   "name": "python3"
  },
  "language_info": {
   "codemirror_mode": {
    "name": "ipython",
    "version": 3
   },
   "file_extension": ".py",
   "mimetype": "text/x-python",
   "name": "python",
   "nbconvert_exporter": "python",
   "pygments_lexer": "ipython3",
   "version": "3.7.1"
  }
 },
 "nbformat": 4,
 "nbformat_minor": 2
}
