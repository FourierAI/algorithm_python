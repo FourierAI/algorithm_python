{
 "cells": [
  {
   "cell_type": "code",
   "execution_count": 7,
   "metadata": {},
   "outputs": [],
   "source": [
    "class Solution:\n",
    "    def twoSum(self, nums: List[int], target: int) -> List[int]:\n",
    "        dictionary = {}\n",
    "        for index, value in enumerate(nums):\n",
    "            diff = target - value\n",
    "#             Firstly, we must judge whether diff is in dictionary or not, then add it into dictionary\n",
    "#             if we didn't process on this order, we will get into trouble. For example, nums = [3,3]\n",
    "            if diff in dictionary.keys():\n",
    "                return [dictionary[diff], index]\n",
    "            dictionary[value] = index"
   ]
  }
 ],
 "metadata": {
  "kernelspec": {
   "display_name": "Python 3",
   "language": "python",
   "name": "python3"
  },
  "language_info": {
   "codemirror_mode": {
    "name": "ipython",
    "version": 3
   },
   "file_extension": ".py",
   "mimetype": "text/x-python",
   "name": "python",
   "nbconvert_exporter": "python",
   "pygments_lexer": "ipython3",
   "version": "3.7.1"
  }
 },
 "nbformat": 4,
 "nbformat_minor": 2
}
