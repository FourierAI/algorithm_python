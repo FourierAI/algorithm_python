{
 "cells": [
  {
   "cell_type": "code",
   "execution_count": null,
   "metadata": {},
   "outputs": [],
   "source": [
    "class Solution:\n",
    "    def reverse(self, x: int) -> int:\n",
    "\n",
    "        x_str = str(x)\n",
    "\n",
    "        if '-' in x_str:\n",
    "            x_str = x_str[1:]\n",
    "            x_str = x_str[::-1]\n",
    "            result = int('-'+x_str)\n",
    "            if result<= -2**31 or result >= 2**31-1:\n",
    "                return 0\n",
    "            return result\n",
    "        else:\n",
    "            x_str = x_str[::-1]\n",
    "            result = int(x_str)\n",
    "            if result<= -2**31 or result >= 2**31-1:\n",
    "                return 0\n",
    "            return result"
   ]
  }
 ],
 "metadata": {
  "kernelspec": {
   "display_name": "Python 3",
   "language": "python",
   "name": "python3"
  },
  "language_info": {
   "codemirror_mode": {
    "name": "ipython",
    "version": 3
   },
   "file_extension": ".py",
   "mimetype": "text/x-python",
   "name": "python",
   "nbconvert_exporter": "python",
   "pygments_lexer": "ipython3",
   "version": "3.7.1"
  }
 },
 "nbformat": 4,
 "nbformat_minor": 2
}
