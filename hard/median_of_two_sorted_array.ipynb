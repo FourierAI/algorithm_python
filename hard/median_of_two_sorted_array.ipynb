{
 "cells": [
  {
   "cell_type": "code",
   "execution_count": 1,
   "metadata": {},
   "outputs": [],
   "source": [
    "def find_median_of_two_array(list1,list2):\n",
    "    m = len(list1)\n",
    "    n = len(list2)\n",
    "    if m > n :\n",
    "        return find_median_of_two_array(list2,list1)\n",
    "    min_boundary = 0\n",
    "    max_boundary = m\n",
    "    \n",
    "    constant_term = (m+n+1)//2\n",
    "    while min_boundary < max_boundary:\n",
    "        \n",
    "        i = (min_boundary+max_boundary)//2\n",
    "        j = constant_term - i\n",
    "        if list1[i]<list2[j-1] and i<m:\n",
    "            min_boundary = i+1\n",
    "        elif list1[i-1]>list2[j] and i>0:\n",
    "            max_boundary = i-1\n",
    "        else:\n",
    "            if i ==0:\n",
    "                max_left = list2[j-1]\n",
    "            elif j ==0:\n",
    "                max_left = list1[i-1]\n",
    "            else:\n",
    "                max_left= max(list1[i-1],list2[j-1])\n",
    "                \n",
    "            if (m+n)%2 ==1:\n",
    "                return max_left\n",
    "            \n",
    "            if i ==m:\n",
    "                min_right = list2[j]\n",
    "            elif j == n:\n",
    "                min_right = list1[i]\n",
    "            else:\n",
    "                min_right = min(list1[i],list2[j])\n",
    "            \n",
    "            return (max_left+min_right)/2"
   ]
  },
  {
   "cell_type": "code",
   "execution_count": null,
   "metadata": {},
   "outputs": [],
   "source": []
  }
 ],
 "metadata": {
  "kernelspec": {
   "display_name": "Python 3",
   "language": "python",
   "name": "python3"
  },
  "language_info": {
   "codemirror_mode": {
    "name": "ipython",
    "version": 3
   },
   "file_extension": ".py",
   "mimetype": "text/x-python",
   "name": "python",
   "nbconvert_exporter": "python",
   "pygments_lexer": "ipython3",
   "version": "3.7.1"
  }
 },
 "nbformat": 4,
 "nbformat_minor": 2
}
