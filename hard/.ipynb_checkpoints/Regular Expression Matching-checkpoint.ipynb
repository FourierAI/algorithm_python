{
 "cells": [
  {
   "cell_type": "code",
   "execution_count": 1,
   "metadata": {},
   "outputs": [],
   "source": [
    "class Solution:\n",
    "    def isMatch(self, s: str, p: str) -> bool:\n",
    "        if not p:\n",
    "            return not s\n",
    "        current_bool = bool(s) and p[0] in {s[0],'.'}\n",
    "\n",
    "        if len(p) >= 2 and p[1] == '*':\n",
    "            return self.isMatch(s,p[2:]) or (current_bool and self.isMatch(s[1:],p))\n",
    "\n",
    "        return current_bool and self.isMatch(s[1:],p[1:]) "
   ]
  },
  {
   "cell_type": "code",
   "execution_count": 3,
   "metadata": {},
   "outputs": [],
   "source": [
    "class Solution:\n",
    "    def isMatch(self, s: str, p: str) -> bool:\n",
    "        tmp_store = {}\n",
    "        def optimal_dp(i,j):\n",
    "            if (i,j) in tmp_store:\n",
    "                return tmp_store[i,j]\n",
    "            else:\n",
    "                first_match = i < len(s) and p[j] in {s[i], '.'}\n",
    "                if j+1 < len(p) and p[j+1] == '*':\n",
    "                    ans = optimal_dp(i, j+2) or first_match and optimal_dp(i+1, j)\n",
    "                else:\n",
    "                    ans = first_match and optimal_dp(i+1, j+1)\n",
    "\n",
    "                tmp_store[i, j] = ans\n",
    "                \n",
    "        return optimal_dp(0,0)"
   ]
  },
  {
   "cell_type": "code",
   "execution_count": null,
   "metadata": {},
   "outputs": [],
   "source": []
  }
 ],
 "metadata": {
  "kernelspec": {
   "display_name": "Python 3",
   "language": "python",
   "name": "python3"
  },
  "language_info": {
   "codemirror_mode": {
    "name": "ipython",
    "version": 3
   },
   "file_extension": ".py",
   "mimetype": "text/x-python",
   "name": "python",
   "nbconvert_exporter": "python",
   "pygments_lexer": "ipython3",
   "version": "3.7.1"
  }
 },
 "nbformat": 4,
 "nbformat_minor": 2
}
